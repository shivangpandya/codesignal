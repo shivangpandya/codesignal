{
 "cells": [
  {
   "cell_type": "code",
   "execution_count": 35,
   "metadata": {
    "collapsed": true
   },
   "outputs": [],
   "source": [
    "#Container with most water \n",
    "\n",
    "class Solution(object):\n",
    "    def maxArea(self, height):\n",
    "        \"\"\"\n",
    "        :type height: List[int]\n",
    "        :rtype: int\n",
    "        \"\"\"\n",
    "        \n",
    "        p1 = 0\n",
    "        p2 = len(height) - 1\n",
    "        maxarea = 0\n",
    "        \n",
    "        while(p1!=p2):\n",
    "            area = min(height[p1] ,  height[p2] )  * (p2 - p1)\n",
    "            \n",
    "            if(area > maxarea ):\n",
    "                maxarea  = area \n",
    "                \n",
    "            if(height[p1]< height[p2]):\n",
    "                p1+=1\n",
    "            \n",
    "            else:\n",
    "                p2-=1\n",
    "                \n",
    "        return maxarea"
   ]
  },
  {
   "cell_type": "code",
   "execution_count": 33,
   "metadata": {},
   "outputs": [],
   "source": [
    "#Combination Sum\n",
    "\n",
    "'''Since the problem is to get all the possible results, not the best or the number of result, \n",
    "thus we don’t need to consider DP(dynamic programming), recursion is needed to handle it.'''\n",
    "\n",
    "'''We use the following alggorithm:\n",
    "1. Sort the array in non-decreasing order\n",
    "2. First remove all duplicates from the array\n",
    "3.Use recursion and backtracking\n",
    "(A) If at any time sub-problem sum == 0 then \n",
    "       add that array to the result (vector of \n",
    "       vectors).\n",
    "   (B) Else if sum if negative then ignore that \n",
    "       sub-problem.\n",
    "   (C) Else insert the present array in that \n",
    "       index to the current vector and call \n",
    "       the function with sum = sum-ar[index] and\n",
    "       index = index, then pop that element from \n",
    "       current index (backtrack) and call the \n",
    "       function with sum = sum and index = index+1 \n",
    "'''\n",
    "\n",
    "candidates = [1,3,4,6,7,8,9]\n",
    "target = 7\n",
    "\n",
    "\n",
    "def combinationsum(candidates,target):\n",
    "    \n",
    "    # preprocessing, sort candidates in ascending order\n",
    "    candidates.sort()\n",
    "\n",
    "    # record of minimum element in candidates\n",
    "    minimum = candidates[0]\n",
    "\n",
    "    # record the valid combination\n",
    "    result = []\n",
    "        \n",
    "    def find_combination(target,start,end,path):\n",
    "        \n",
    "        if(target == 0):\n",
    "            #Path sum equals to target,found one valid combination\n",
    "            result.append(path)\n",
    "            \n",
    "        for i in range(start,end+1):\n",
    "            \n",
    "            curr = candidates[i]\n",
    "            \n",
    "            if(curr>target):\n",
    "                #Current minimum element is larger than target hence it is impossible to make combiantion\n",
    "                break\n",
    "            \n",
    "            remaining = target - curr\n",
    "            \n",
    "            if(remaining and remaining<minimum):\n",
    "              #Remainder is smaller than the smallest number in the candidate  \n",
    "                continue\n",
    "                \n",
    "            #DFS Search \n",
    "            find_combination(remaining , i , end, path + [curr])\n",
    "    \n",
    "    #DFS Search in array till len of candidates\\\n",
    "    find_combination(target,0 , len(candidates) - 1 , [])\n",
    "    return result\n",
    "\n",
    "    "
   ]
  },
  {
   "cell_type": "code",
   "execution_count": 34,
   "metadata": {},
   "outputs": [
    {
     "data": {
      "text/plain": [
       "[[1, 1, 1, 1, 1, 1, 1],\n",
       " [1, 1, 1, 1, 3],\n",
       " [1, 1, 1, 4],\n",
       " [1, 3, 3],\n",
       " [1, 6],\n",
       " [3, 4],\n",
       " [7]]"
      ]
     },
     "execution_count": 34,
     "metadata": {},
     "output_type": "execute_result"
    }
   ],
   "source": [
    "combinationsum(candidates , target) "
   ]
  },
  {
   "cell_type": "code",
   "execution_count": null,
   "metadata": {},
   "outputs": [],
   "source": [
    "#Combination Sum II\n",
    "\n"
   ]
  },
  {
   "cell_type": "code",
   "execution_count": 43,
   "metadata": {},
   "outputs": [
    {
     "data": {
      "text/plain": [
       "5"
      ]
     },
     "execution_count": 43,
     "metadata": {},
     "output_type": "execute_result"
    }
   ],
   "source": [
    "#Climbing stairs\n",
    "\n",
    "'''\n",
    "ways(n) is equal to fibonacci(n+1).\n",
    "ways(n) = ways(n-1) + ways(n-2)\n",
    "ways(1) = fib(2) = 1\n",
    "ways(2) = fib(3) = 2\n",
    "ways(3) = fib(4) = 3\n",
    "'''\n",
    "\n",
    "    \n",
    "    \n",
    "\n",
    "\n",
    "\n",
    "def climbingstairs(n):\n",
    "        if n == 1:\n",
    "            return 1\n",
    "        elif n == 2:\n",
    "            return 2\n",
    "        \n",
    "        f, s = 1, 2\n",
    "        \n",
    "        for attempt in range(2, n):\n",
    "            t = f + s\n",
    "            f = s\n",
    "            s = t\n",
    "            \n",
    "        return s\n",
    "    \n",
    "\n",
    "climbingstairs(4) "
   ]
  },
  {
   "cell_type": "code",
   "execution_count": 80,
   "metadata": {},
   "outputs": [
    {
     "data": {
      "text/plain": [
       "[1, 1, 4, 2, 1, 1, 0, 0]"
      ]
     },
     "execution_count": 80,
     "metadata": {},
     "output_type": "execute_result"
    }
   ],
   "source": [
    "#739 Daily temperatures\n",
    "\n",
    "T = [73, 74, 75, 71, 69, 72, 76, 73]\n",
    "\n",
    "def dailyTemperatures(T):\n",
    "    \n",
    "    n = len(T)\n",
    "    \n",
    "    #Initialize both the variables\n",
    "    days_to_wait , stack = [0]* n  , []\n",
    "        \n",
    "    for i in range(n):\n",
    "        while stack and T[stack[-1]] <T[i]:\n",
    "            days_to_wait[stack.pop()] = i - stack[-1]\n",
    "        stack.append(i)\n",
    "    return days_to_wait\n",
    "\n",
    "dailyTemperatures(T)"
   ]
  },
  {
   "cell_type": "code",
   "execution_count": null,
   "metadata": {},
   "outputs": [],
   "source": [
    "#621 Task Scheduler\n",
    "\n",
    "\n",
    "\n"
   ]
  },
  {
   "cell_type": "code",
   "execution_count": null,
   "metadata": {},
   "outputs": [],
   "source": []
  },
  {
   "cell_type": "code",
   "execution_count": 73,
   "metadata": {},
   "outputs": [
    {
     "data": {
      "text/plain": [
       "2"
      ]
     },
     "execution_count": 73,
     "metadata": {},
     "output_type": "execute_result"
    }
   ],
   "source": [
    "#Minimum number of cans used to fill water\n",
    "\n",
    "def minCans(used,total,n):\n",
    "    # returns n \n",
    "    difference = [tot - use for tot,use in zip(total,used)]\n",
    "    count = 0\n",
    "    sorted(difference,reverse=True)\n",
    "#     print(difference)\n",
    "    for  diff in difference:\n",
    "#         print(n, diff)\n",
    "        if n == 0:\n",
    "            break\n",
    "        if n - diff >= 0 or n >= 0:\n",
    "            n = n - diff\n",
    "            count += 1\n",
    "#         print('count:', count)\n",
    "    return count\n",
    "\n",
    "used = [1,1,1] \n",
    "total = [3,3,3]\n",
    "  \n",
    "minCans(used,total,n)"
   ]
  },
  {
   "cell_type": "code",
   "execution_count": 4,
   "metadata": {},
   "outputs": [
    {
     "data": {
      "text/plain": [
       "4"
      ]
     },
     "execution_count": 4,
     "metadata": {},
     "output_type": "execute_result"
    }
   ],
   "source": [
    "#198 House robber\n",
    "\n",
    "nums = [1,2,3,1]\n",
    "\n",
    "def houserobber(nums):\n",
    "    \n",
    "    if(len(nums) == 0):\n",
    "        return 0\n",
    "    \n",
    "    if(len(nums) == 1):\n",
    "        return nums[0]\n",
    "    \n",
    "    if(len(nums) == 2):\n",
    "        return max(nums[0],nums[1])\n",
    "    \n",
    "    dp = [0] * len(nums)\n",
    "    dp[0] = nums[0]\n",
    "    dp[1] = nums[1]\n",
    "    \n",
    "    for i in range(2,len(nums)):\n",
    "        dp[i] = max(nums[i] + dp[i-2] , dp[i-1])\n",
    "        \n",
    "    return dp[len(nums) - 1]\n",
    "\n",
    "\n",
    "houserobber(nums)        "
   ]
  },
  {
   "cell_type": "code",
   "execution_count": 5,
   "metadata": {},
   "outputs": [],
   "source": [
    "#Maximum product of contiguous subarray\n",
    "\n",
    "class Solution(object):\n",
    "    def maxProduct(self, nums):\n",
    "        \"\"\"\n",
    "        :type nums: List[int]\n",
    "        :rtype: int\n",
    "        \"\"\"\n",
    "        currentmax = nums[0]\n",
    "        currentmin = nums[0]\n",
    "        finalmax = nums[0]\n",
    "        if(len(nums) == 0):\n",
    "            return 0\n",
    "        \n",
    "        elif(len(nums)==1):\n",
    "            return nums[0]\n",
    "        \n",
    "        \n",
    "        \n",
    "        for i in range(1,len(nums)):\n",
    "            temp =currentmax\n",
    "            currentmax = max(max(nums[i]*currentmax , currentmin * nums[i]),nums[i])\n",
    "                             \n",
    "            currentmin= min(min(nums[i]*currentmin,temp*nums[i]),nums[i])\n",
    "            if(currentmax>finalmax):\n",
    "                finalmax = currentmax\n",
    "\n",
    "        return finalmax\n",
    "\n",
    "        \n",
    "        \n",
    "        "
   ]
  },
  {
   "cell_type": "code",
   "execution_count": 9,
   "metadata": {},
   "outputs": [],
   "source": [
    "#Top K Frequent Elements\n",
    "\n",
    "\n",
    "def kfreq():\n",
    "    d = {}\n",
    "    for num in nums:\n",
    "        if num in d:\n",
    "            d[num] += 1\n",
    "        else:\n",
    "            d[num] = 1\n",
    "\n",
    "    return sorted(d, key=d.get, reverse=True)[:k]"
   ]
  },
  {
   "cell_type": "code",
   "execution_count": 11,
   "metadata": {},
   "outputs": [],
   "source": [
    "#Coin change\n",
    "\n",
    "class Solution(object):\n",
    "    def coinChange(self, coins, amount):\n",
    "        \"\"\"\n",
    "        :type coins: List[int]\n",
    "        :type amount: int\n",
    "        :rtype: int\n",
    "        \"\"\"\n",
    "        dp = [float('Inf')] * (amount+1)\n",
    "        dp[0] = 0\n",
    "        \n",
    "        for i in range(amount+1):\n",
    "            for j in range(len(coins)):\n",
    "                if(coins[j]<=i):\n",
    "                    dp[i] = min(dp[i] ,1 + dp [i-coins[j]]\n",
    "        return dp[amount] if dp[amount] != float('Inf') else -1"
   ]
  },
  {
   "cell_type": "code",
   "execution_count": 12,
   "metadata": {},
   "outputs": [],
   "source": [
    "#Single number\n",
    "\n",
    "class Solution(object):\n",
    "    def singleNumber(self, nums):\n",
    "        \"\"\"\n",
    "        :type nums: List[int]\n",
    "        :rtype: int\n",
    "        \"\"\"\n",
    "        d =  {}\n",
    "        for num in nums:\n",
    "            if num in d:\n",
    "                d[num]+=1\n",
    "            else:\n",
    "                d[num] = 1\n",
    "    \n",
    "        for num in d:\n",
    "            if d[num] == 1:\n",
    "                return num"
   ]
  },
  {
   "cell_type": "code",
   "execution_count": null,
   "metadata": {},
   "outputs": [],
   "source": []
  }
 ],
 "metadata": {
  "kernelspec": {
   "display_name": "Python 3",
   "language": "python",
   "name": "python3"
  },
  "language_info": {
   "codemirror_mode": {
    "name": "ipython",
    "version": 3
   },
   "file_extension": ".py",
   "mimetype": "text/x-python",
   "name": "python",
   "nbconvert_exporter": "python",
   "pygments_lexer": "ipython3",
   "version": "3.6.5"
  }
 },
 "nbformat": 4,
 "nbformat_minor": 2
}
